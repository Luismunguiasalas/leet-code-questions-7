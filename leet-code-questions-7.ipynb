{
 "metadata": {
  "language_info": {
   "codemirror_mode": {
    "name": "ipython",
    "version": 3
   },
   "file_extension": ".py",
   "mimetype": "text/x-python",
   "name": "python",
   "nbconvert_exporter": "python",
   "pygments_lexer": "ipython3",
   "version": "3.8.5-final"
  },
  "orig_nbformat": 2,
  "kernelspec": {
   "name": "python3",
   "display_name": "Python 3",
   "language": "python"
  }
 },
 "nbformat": 4,
 "nbformat_minor": 2,
 "cells": [
  {
   "cell_type": "code",
   "execution_count": null,
   "metadata": {},
   "outputs": [],
   "source": [
    "# 1475. Final Prices With a Special Discount in a Shop\n",
    "# b\n",
    "# prices = [1,2,3,4,5]\n",
    "prices = [10,1,1,6]\n",
    "a = []\n",
    "for i in range(len(prices)):\n",
    "    for y in range(len(prices)):\n",
    "        boo = True\n",
    "        if i < y and prices[i] >= prices[y]:\n",
    "            a.append(prices[i] - prices[y])\n",
    "            boo = False\n",
    "            break\n",
    "    if boo:\n",
    "        a.append(prices[i])\n",
    "print(a)"
   ]
  },
  {
   "cell_type": "code",
   "execution_count": null,
   "metadata": {},
   "outputs": [],
   "source": [
    "\n",
    "pr = [4,7,1,9,4,8,8,9,4]\n",
    "\n",
    "# [3,6,1,5,0,0,4,5,4]\n",
    "ans = []\n",
    "x = 0\n",
    "y = 0\n",
    "while x < len(pr):\n",
    "    if x < y and pr[x] >= pr[y]:\n",
    "        ans.append(pr[x]-pr[y])\n",
    "        # print(ans)\n",
    "        x += 1\n",
    "        if x + 1 < len(pr):\n",
    "            y = x + 1\n",
    "    elif y == len(pr)-1 and x < len(pr):\n",
    "        ans.append(pr[x])\n",
    "        # print(ans)\n",
    "        y = x + 2\n",
    "        x += 1\n",
    "    else:\n",
    "        y += 1\n",
    "        # print('index',y)\n",
    "print(ans)\n",
    "    # pr = [4,7,1,9,4,8,8,9,4]\n",
    "    # [3,6,1,5,0,0,4,5,4]"
   ]
  },
  {
   "cell_type": "code",
   "execution_count": null,
   "metadata": {},
   "outputs": [],
   "source": [
    "# 961. N-Repeated Element in Size 2N Array\n",
    "\n",
    "# In a array A of size 2N, there are N+1 unique elements, and exactly one of these elements is repeated N times.\n",
    "\n",
    "# Return the element repeated N times.\n",
    "class Solution:\n",
    "    def repeatedNTimes(self, A: List[int]) -> int:\n",
    "        dic = {}\n",
    "        for i in A:\n",
    "            if i not in dic: \n",
    "                dic[i] = 0\n",
    "            dic[i] += 1\n",
    "            if dic[i] > 1:\n",
    "                return i"
   ]
  },
  {
   "cell_type": "code",
   "execution_count": null,
   "metadata": {},
   "outputs": [],
   "source": [
    "# 1299. Replace Elements with Greatest Element on Right Side\n",
    "# Given an array arr, replace every element in that array with the greatest element among the elements to its right, and replace the last element with -1.\n",
    "def replaceElement(arr):\n",
    "    arr2 = []\n",
    "    for i in range(len(arr)):\n",
    "        arr2.append(max(arr[i:]))\n",
    "    arr2 = arr2[1:]\n",
    "    arr2.append(-1)\n",
    "    print(arr2)\n",
    "\n",
    "def replaceElement(arr):\n",
    "    for i in range(1,len(arr)):\n",
    "        temp = max(arr[i:])\n",
    "        if temp != arr[i-1]: arr[i-1] = temp\n",
    "        # arr[i-1] = max(arr[i:])\n",
    "        # for n in arr[1+1:]:\n",
    "    arr[-1] = -1\n",
    "    print(arr)\n",
    "\n",
    "def replaceElement(arr):\n",
    "    arr = arr[::-1]\n",
    "    arr2 = []\n",
    "    for i in range(len(arr)-1, -1,-1):\n",
    "        # arr[i] = max(arr[i:])\n",
    "        arr2.append(max(arr[i:]))\n",
    "        print(arr[i],i)\n",
    "    print(arr2)\n",
    "\n",
    "arr = [17,18,5,4,6,1]\n",
    "# arr = [400]\n",
    "replaceElement(arr)"
   ]
  },
  {
   "cell_type": "code",
   "execution_count": null,
   "metadata": {},
   "outputs": [],
   "source": [
    "# 657. Robot Return to Origin\n",
    "# There is a robot starting at position (0, 0), the origin, on a 2D plane. Given a sequence of its moves, judge if this robot ends up at (0, 0) after it completes its moves.\n",
    "\n",
    "\n",
    "def judgeCircle(moves):\n",
    "    tracker = {\"U\":0,\"D\":0,\"L\":0,\"R\":0}\n",
    "    for ltr in moves:\n",
    "        if ltr == \"U\":\n",
    "            tracker[ltr] += 1\n",
    "            tracker[\"D\"] -= 1\n",
    "        elif ltr == \"D\":\n",
    "            tracker[ltr] += 1\n",
    "            tracker[\"U\"] -= 1\n",
    "        elif ltr == \"L\":\n",
    "            tracker[ltr] += 1\n",
    "            tracker[\"R\"] -= 1\n",
    "        elif ltr == \"R\":\n",
    "            tracker[ltr] += 1\n",
    "            tracker[\"L\"] -= 1\n",
    "    if max(tracker.values()) > 0: return False\n",
    "    return True\n",
    "\n",
    "moves = \"UDLR\"\n",
    "judgeCircle(moves)"
   ]
  },
  {
   "cell_type": "code",
   "execution_count": 101,
   "metadata": {},
   "outputs": [
    {
     "output_type": "stream",
     "name": "stdout",
     "text": [
      "[0, 1]\n"
     ]
    },
    {
     "output_type": "execute_result",
     "data": {
      "text/plain": [
       "[0]"
      ]
     },
     "metadata": {},
     "execution_count": 101
    }
   ],
   "source": [
    "942. DI String Match\n",
    "\n",
    "def diStringMatch(input):\n",
    "    if len(input) == 1:\n",
    "         if input[0] == \"I\": return [0,1]\n",
    "         else: return [1,0]\n",
    "    l = 0\n",
    "    r = len(input)\n",
    "    answer = []\n",
    "    arr = [x for x in range(len(input) + 1)]\n",
    "    while l < r-1:\n",
    "        for ltr in input:\n",
    "            if ltr == 'I': \n",
    "                answer.append(arr[l])\n",
    "                l += 1\n",
    "            else:\n",
    "                answer.append(arr[r])\n",
    "                r -= 1\n",
    "    answer.append(arr[l])\n",
    "    return answer\n",
    "\n",
    "\n",
    "# input = 'IDID'\n",
    "# input = 'III'\n",
    "input = 'I'\n",
    "# input = 'DDI'\n",
    "diStringMatch(input)"
   ]
  }
 ]
}