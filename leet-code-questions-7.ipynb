{
 "metadata": {
  "language_info": {
   "codemirror_mode": {
    "name": "ipython",
    "version": 3
   },
   "file_extension": ".py",
   "mimetype": "text/x-python",
   "name": "python",
   "nbconvert_exporter": "python",
   "pygments_lexer": "ipython3",
   "version": "3.8.5-final"
  },
  "orig_nbformat": 2,
  "kernelspec": {
   "name": "python3",
   "display_name": "Python 3",
   "language": "python"
  }
 },
 "nbformat": 4,
 "nbformat_minor": 2,
 "cells": [
  {
   "cell_type": "code",
   "execution_count": 20,
   "metadata": {},
   "outputs": [
    {
     "output_type": "stream",
     "name": "stdout",
     "text": [
      "[9, 0, 1, 6]\n"
     ]
    }
   ],
   "source": [
    "# 1475. Final Prices With a Special Discount in a Shop\n",
    "# b\n",
    "# prices = [1,2,3,4,5]\n",
    "prices = [10,1,1,6]\n",
    "a = []\n",
    "for i in range(len(prices)):\n",
    "    for y in range(len(prices)):\n",
    "        boo = True\n",
    "        if i < y and prices[i] >= prices[y]:\n",
    "            a.append(prices[i] - prices[y])\n",
    "            boo = False\n",
    "            break\n",
    "    if boo:\n",
    "        a.append(prices[i])\n",
    "print(a)"
   ]
  },
  {
   "cell_type": "code",
   "execution_count": 32,
   "metadata": {},
   "outputs": [
    {
     "output_type": "stream",
     "name": "stdout",
     "text": [
      "[3, 6, 1, 5, 0, 0, 4, 5, 4]\n"
     ]
    }
   ],
   "source": [
    "\n",
    "pr = [4,7,1,9,4,8,8,9,4]\n",
    "\n",
    "# [3,6,1,5,0,0,4,5,4]\n",
    "ans = []\n",
    "x = 0\n",
    "y = 0\n",
    "while x < len(pr):\n",
    "    if x < y and pr[x] >= pr[y]:\n",
    "        ans.append(pr[x]-pr[y])\n",
    "        # print(ans)\n",
    "        x += 1\n",
    "        if x + 1 < len(pr):\n",
    "            y = x + 1\n",
    "    elif y == len(pr)-1 and x < len(pr):\n",
    "        ans.append(pr[x])\n",
    "        # print(ans)\n",
    "        y = x + 2\n",
    "        x += 1\n",
    "    else:\n",
    "        y += 1\n",
    "        # print('index',y)\n",
    "print(ans)\n",
    "    # pr = [4,7,1,9,4,8,8,9,4]\n",
    "    # [3,6,1,5,0,0,4,5,4]"
   ]
  },
  {
   "cell_type": "code",
   "execution_count": null,
   "metadata": {},
   "outputs": [],
   "source": [
    "# 961. N-Repeated Element in Size 2N Array\n",
    "\n",
    "# In a array A of size 2N, there are N+1 unique elements, and exactly one of these elements is repeated N times.\n",
    "\n",
    "# Return the element repeated N times.\n",
    "class Solution:\n",
    "    def repeatedNTimes(self, A: List[int]) -> int:\n",
    "        dic = {}\n",
    "        for i in A:\n",
    "            if i not in dic: \n",
    "                dic[i] = 0\n",
    "            dic[i] += 1\n",
    "            if dic[i] > 1:\n",
    "                return i"
   ]
  },
  {
   "cell_type": "code",
   "execution_count": 44,
   "metadata": {},
   "outputs": [
    {
     "output_type": "error",
     "ename": "IndexError",
     "evalue": "list index out of range",
     "traceback": [
      "\u001b[0;31m---------------------------------------------------------------------------\u001b[0m",
      "\u001b[0;31mIndexError\u001b[0m                                Traceback (most recent call last)",
      "\u001b[0;32m<ipython-input-44-7063759cf099>\u001b[0m in \u001b[0;36m<module>\u001b[0;34m\u001b[0m\n\u001b[1;32m     30\u001b[0m \u001b[0marr\u001b[0m \u001b[0;34m=\u001b[0m \u001b[0;34m[\u001b[0m\u001b[0;36m17\u001b[0m\u001b[0;34m,\u001b[0m\u001b[0;36m18\u001b[0m\u001b[0;34m,\u001b[0m\u001b[0;36m5\u001b[0m\u001b[0;34m,\u001b[0m\u001b[0;36m4\u001b[0m\u001b[0;34m,\u001b[0m\u001b[0;36m6\u001b[0m\u001b[0;34m,\u001b[0m\u001b[0;36m1\u001b[0m\u001b[0;34m]\u001b[0m\u001b[0;34m\u001b[0m\u001b[0;34m\u001b[0m\u001b[0m\n\u001b[1;32m     31\u001b[0m \u001b[0;31m# arr = [400]\u001b[0m\u001b[0;34m\u001b[0m\u001b[0;34m\u001b[0m\u001b[0;34m\u001b[0m\u001b[0m\n\u001b[0;32m---> 32\u001b[0;31m \u001b[0mreplaceElement\u001b[0m\u001b[0;34m(\u001b[0m\u001b[0marr\u001b[0m\u001b[0;34m)\u001b[0m\u001b[0;34m\u001b[0m\u001b[0;34m\u001b[0m\u001b[0m\n\u001b[0m",
      "\u001b[0;32m<ipython-input-44-7063759cf099>\u001b[0m in \u001b[0;36mreplaceElement\u001b[0;34m(arr)\u001b[0m\n\u001b[1;32m     25\u001b[0m         \u001b[0marr2\u001b[0m\u001b[0;34m.\u001b[0m\u001b[0mappend\u001b[0m\u001b[0;34m(\u001b[0m\u001b[0mmax\u001b[0m\u001b[0;34m(\u001b[0m\u001b[0marr\u001b[0m\u001b[0;34m[\u001b[0m\u001b[0mi\u001b[0m\u001b[0;34m:\u001b[0m\u001b[0;34m]\u001b[0m\u001b[0;34m)\u001b[0m\u001b[0;34m)\u001b[0m\u001b[0;34m\u001b[0m\u001b[0;34m\u001b[0m\u001b[0m\n\u001b[1;32m     26\u001b[0m         \u001b[0marr\u001b[0m\u001b[0;34m.\u001b[0m\u001b[0mpop\u001b[0m\u001b[0;34m(\u001b[0m\u001b[0;34m)\u001b[0m\u001b[0;34m\u001b[0m\u001b[0;34m\u001b[0m\u001b[0m\n\u001b[0;32m---> 27\u001b[0;31m         \u001b[0mprint\u001b[0m\u001b[0;34m(\u001b[0m\u001b[0marr\u001b[0m\u001b[0;34m[\u001b[0m\u001b[0mi\u001b[0m\u001b[0;34m]\u001b[0m\u001b[0;34m,\u001b[0m\u001b[0mi\u001b[0m\u001b[0;34m)\u001b[0m\u001b[0;34m\u001b[0m\u001b[0;34m\u001b[0m\u001b[0m\n\u001b[0m\u001b[1;32m     28\u001b[0m     \u001b[0mprint\u001b[0m\u001b[0;34m(\u001b[0m\u001b[0marr2\u001b[0m\u001b[0;34m)\u001b[0m\u001b[0;34m\u001b[0m\u001b[0;34m\u001b[0m\u001b[0m\n\u001b[1;32m     29\u001b[0m \u001b[0;34m\u001b[0m\u001b[0m\n",
      "\u001b[0;31mIndexError\u001b[0m: list index out of range"
     ]
    }
   ],
   "source": [
    "# 1299. Replace Elements with Greatest Element on Right Side\n",
    "# Given an array arr, replace every element in that array with the greatest element among the elements to its right, and replace the last element with -1.\n",
    "def replaceElement(arr):\n",
    "    arr2 = []\n",
    "    for i in range(len(arr)):\n",
    "        arr2.append(max(arr[i:]))\n",
    "    arr2 = arr2[1:]\n",
    "    arr2.append(-1)\n",
    "    print(arr2)\n",
    "\n",
    "def replaceElement(arr):\n",
    "    for i in range(1,len(arr)):\n",
    "        temp = max(arr[i:])\n",
    "        if temp != arr[i-1]: arr[i-1] = temp\n",
    "        # arr[i-1] = max(arr[i:])\n",
    "        # for n in arr[1+1:]:\n",
    "    arr[-1] = -1\n",
    "    print(arr)\n",
    "\n",
    "def replaceElement(arr):\n",
    "    arr = arr[::-1]\n",
    "    arr2 = []\n",
    "    for i in range(len(arr)-1, -1,-1):\n",
    "        # arr[i] = max(arr[i:])\n",
    "        arr2.append(max(arr[i:]))\n",
    "        print(arr[i],i)\n",
    "    print(arr2)\n",
    "\n",
    "arr = [17,18,5,4,6,1]\n",
    "# arr = [400]\n",
    "replaceElement(arr)"
   ]
  },
  {
   "cell_type": "code",
   "execution_count": null,
   "metadata": {},
   "outputs": [],
   "source": []
  }
 ]
}