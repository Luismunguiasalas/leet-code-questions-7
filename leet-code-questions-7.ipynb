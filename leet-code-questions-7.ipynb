{
 "metadata": {
  "language_info": {
   "codemirror_mode": {
    "name": "ipython",
    "version": 3
   },
   "file_extension": ".py",
   "mimetype": "text/x-python",
   "name": "python",
   "nbconvert_exporter": "python",
   "pygments_lexer": "ipython3",
   "version": "3.8.5-final"
  },
  "orig_nbformat": 2,
  "kernelspec": {
   "name": "python3",
   "display_name": "Python 3",
   "language": "python"
  }
 },
 "nbformat": 4,
 "nbformat_minor": 2,
 "cells": [
  {
   "cell_type": "code",
   "execution_count": 19,
   "metadata": {},
   "outputs": [
    {
     "output_type": "stream",
     "name": "stdout",
     "text": [
      "[1, 2, 3, 4, 5]\n"
     ]
    }
   ],
   "source": [
    "# prices = [8,4,6,2,3]\n",
    "prices = [1,2,3,4,5]\n",
    "a = []\n",
    "for i in range(len(prices)):\n",
    "    for y in range(len(prices)):\n",
    "        boo = True\n",
    "        if i < y and prices[i] >= prices[y]:\n",
    "            a.append(prices[i] - prices[y])\n",
    "            boo = False\n",
    "            break\n",
    "    if boo:\n",
    "        a.append(prices[i])\n",
    "print(a)"
   ]
  }
 ]
}