{
 "metadata": {
  "language_info": {
   "codemirror_mode": {
    "name": "ipython",
    "version": 3
   },
   "file_extension": ".py",
   "mimetype": "text/x-python",
   "name": "python",
   "nbconvert_exporter": "python",
   "pygments_lexer": "ipython3",
   "version": "3.8.5-final"
  },
  "orig_nbformat": 2,
  "kernelspec": {
   "name": "python3",
   "display_name": "Python 3",
   "language": "python"
  }
 },
 "nbformat": 4,
 "nbformat_minor": 2,
 "cells": [
  {
   "cell_type": "code",
   "execution_count": 20,
   "metadata": {},
   "outputs": [
    {
     "output_type": "stream",
     "name": "stdout",
     "text": [
      "[9, 0, 1, 6]\n"
     ]
    }
   ],
   "source": [
    "# 1475. Final Prices With a Special Discount in a Shop\n",
    "# b\n",
    "# prices = [1,2,3,4,5]\n",
    "prices = [10,1,1,6]\n",
    "a = []\n",
    "for i in range(len(prices)):\n",
    "    for y in range(len(prices)):\n",
    "        boo = True\n",
    "        if i < y and prices[i] >= prices[y]:\n",
    "            a.append(prices[i] - prices[y])\n",
    "            boo = False\n",
    "            break\n",
    "    if boo:\n",
    "        a.append(prices[i])\n",
    "print(a)"
   ]
  },
  {
   "cell_type": "code",
   "execution_count": 32,
   "metadata": {},
   "outputs": [
    {
     "output_type": "stream",
     "name": "stdout",
     "text": [
      "[3, 6, 1, 5, 0, 0, 4, 5, 4]\n"
     ]
    }
   ],
   "source": [
    "\n",
    "pr = [4,7,1,9,4,8,8,9,4]\n",
    "\n",
    "# [3,6,1,5,0,0,4,5,4]\n",
    "ans = []\n",
    "x = 0\n",
    "y = 0\n",
    "while x < len(pr):\n",
    "    if x < y and pr[x] >= pr[y]:\n",
    "        ans.append(pr[x]-pr[y])\n",
    "        # print(ans)\n",
    "        x += 1\n",
    "        if x + 1 < len(pr):\n",
    "            y = x + 1\n",
    "    elif y == len(pr)-1 and x < len(pr):\n",
    "        ans.append(pr[x])\n",
    "        # print(ans)\n",
    "        y = x + 2\n",
    "        x += 1\n",
    "    else:\n",
    "        y += 1\n",
    "        # print('index',y)\n",
    "print(ans)\n",
    "    # pr = [4,7,1,9,4,8,8,9,4]\n",
    "    # [3,6,1,5,0,0,4,5,4]"
   ]
  },
  {
   "cell_type": "code",
   "execution_count": null,
   "metadata": {},
   "outputs": [],
   "source": [
    "# 961. N-Repeated Element in Size 2N Array\n",
    "\n",
    "# In a array A of size 2N, there are N+1 unique elements, and exactly one of these elements is repeated N times.\n",
    "\n",
    "# Return the element repeated N times.\n",
    "class Solution:\n",
    "    def repeatedNTimes(self, A: List[int]) -> int:\n",
    "        dic = {}\n",
    "        for i in A:\n",
    "            if i not in dic: \n",
    "                dic[i] = 0\n",
    "            dic[i] += 1\n",
    "            if dic[i] > 1:\n",
    "                return i"
   ]
  }
 ]
}